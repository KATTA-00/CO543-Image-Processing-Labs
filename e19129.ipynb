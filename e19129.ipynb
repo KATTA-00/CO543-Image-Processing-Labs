{
 "cells": [
  {
   "cell_type": "markdown",
   "metadata": {},
   "source": [
    "# CO543 - Image Processing\n",
    "## Lab 02\n",
    "\n",
    "- E/19/129\n",
    "- K. H. Gunawardana\n"
   ]
  },
  {
   "cell_type": "code",
   "execution_count": 1,
   "metadata": {},
   "outputs": [],
   "source": [
    "# import modules\n",
    "import cv2\n",
    "import numpy as np\n",
    "import pandas as pd\n",
    "from matplotlib import pyplot as plt"
   ]
  },
  {
   "cell_type": "code",
   "execution_count": null,
   "metadata": {},
   "outputs": [],
   "source": [
    "def showImg(I):\n",
    "    plt.imshow(I)\n",
    "    plt.title('Image')\n",
    "    plt.show()\n",
    "\n",
    "def show2Img(A, B):\n",
    "    plt.subplot(121),plt.imshow(A),plt.title('Input')\n",
    "    plt.subplot(122),plt.imshow(B),plt.title('Output')\n",
    "    plt.show()\n",
    "\n",
    "def viewImg(A):\n",
    "    cv2.imshow('image',A)\n",
    "    cv2.waitKey(0)\n",
    "    cv2.destroyAllWindows()"
   ]
  }
 ],
 "metadata": {
  "kernelspec": {
   "display_name": "Python 3",
   "language": "python",
   "name": "python3"
  },
  "language_info": {
   "codemirror_mode": {
    "name": "ipython",
    "version": 3
   },
   "file_extension": ".py",
   "mimetype": "text/x-python",
   "name": "python",
   "nbconvert_exporter": "python",
   "pygments_lexer": "ipython3",
   "version": "3.9.1"
  }
 },
 "nbformat": 4,
 "nbformat_minor": 2
}
