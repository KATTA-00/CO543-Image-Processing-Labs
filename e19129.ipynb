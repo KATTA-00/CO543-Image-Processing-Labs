{
 "cells": [
  {
   "cell_type": "markdown",
   "metadata": {},
   "source": [
    "# CO543 - Image Processing\n",
    "## Lab 02\n",
    "\n",
    "- E/19/129\n",
    "- K. H. Gunawardana\n"
   ]
  },
  {
   "cell_type": "code",
   "execution_count": 1,
   "metadata": {},
   "outputs": [],
   "source": [
    "# import modules\n",
    "import cv2\n",
    "import numpy as np\n",
    "import pandas as pd\n",
    "from matplotlib import pyplot as plt"
   ]
  },
  {
   "cell_type": "code",
   "execution_count": null,
   "metadata": {},
   "outputs": [],
   "source": [
    "def showImg(I, name=\"Image\"):\n",
    "    plt.figure(figsize=(10, 8))  \n",
    "    if len(I.shape) == 2:\n",
    "        plt.imshow(I, cmap='gray')\n",
    "    else:\n",
    "        plt.imshow(I)\n",
    "\n",
    "    plt.title(name)\n",
    "    plt.show()\n",
    "\n",
    "def show2Img(A, B, title=None, A_name=\"Original Image\", B_name=\"Output Image\"):\n",
    "    fig, (ax1, ax2) = plt.subplots(1, 2, figsize=(20, 15)) \n",
    "    \n",
    "    if len(A.shape) == 2:\n",
    "        ax1.imshow(A, cmap='gray')\n",
    "    else:\n",
    "        ax1.imshow(A)\n",
    "    ax1.set_title(A_name)\n",
    "\n",
    "    if len(B.shape) == 2:\n",
    "        ax2.imshow(B, cmap='gray')\n",
    "    else:\n",
    "        ax2.imshow(B)\n",
    "    ax2.set_title(B_name)\n",
    "\n",
    "    plt.show()\n",
    "\n",
    "def viewImg(A):\n",
    "    cv2.imshow('image',A)\n",
    "    cv2.waitKey(0)\n",
    "    cv2.destroyAllWindows()"
   ]
  }
 ],
 "metadata": {
  "kernelspec": {
   "display_name": "Python 3",
   "language": "python",
   "name": "python3"
  },
  "language_info": {
   "codemirror_mode": {
    "name": "ipython",
    "version": 3
   },
   "file_extension": ".py",
   "mimetype": "text/x-python",
   "name": "python",
   "nbconvert_exporter": "python",
   "pygments_lexer": "ipython3",
   "version": "3.9.1"
  }
 },
 "nbformat": 4,
 "nbformat_minor": 2
}
